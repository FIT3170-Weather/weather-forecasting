{
 "cells": [
  {
   "cell_type": "code",
   "execution_count": 1,
   "metadata": {},
   "outputs": [],
   "source": [
    "import openmeteo_requests\n",
    "\n",
    "import requests_cache\n",
    "import pandas as pd\n",
    "from retry_requests import retry"
   ]
  },
  {
   "cell_type": "code",
   "execution_count": null,
   "metadata": {},
   "outputs": [],
   "source": [
    "# TODO: Change location code to the location required to extract data for\n",
    "location_code = \"kuala-lumpur\""
   ]
  },
  {
   "cell_type": "code",
   "execution_count": 2,
   "metadata": {},
   "outputs": [],
   "source": [
    "# Setup the Open-Meteo API client with cache and retry on error\n",
    "cache_session = requests_cache.CachedSession('.cache', expire_after = -1)\n",
    "retry_session = retry(cache_session, retries = 5, backoff_factor = 0.2)\n",
    "openmeteo = openmeteo_requests.Client(session = retry_session)"
   ]
  },
  {
   "cell_type": "code",
   "execution_count": 4,
   "metadata": {},
   "outputs": [],
   "source": [
    "# Make sure all required weather variables are listed here\n",
    "# The order of variables in hourly or daily is important to assign them correctly below\n",
    "url = \"https://archive-api.open-meteo.com/v1/archive\"\n",
    "params = {\n",
    "    # TODO: Change to specific malaysian location's latitude and longitude\n",
    "\t\"latitude\": 3.1412,\n",
    "\t\"longitude\": 101.6865,\n",
    "\t\"start_date\": \"2010-01-01\",\n",
    "\t\"end_date\": \"2024-07-31\",\n",
    "\t\"hourly\": [\"temperature_2m\", \"relative_humidity_2m\", \"dew_point_2m\", \"rain\", \"pressure_msl\", \"wind_speed_10m\", \"wind_direction_10m\"],\n",
    "    \"timezone\": \"Asia/Singapore\"\n",
    "}\n",
    "responses = openmeteo.weather_api(url, params=params)"
   ]
  },
  {
   "cell_type": "code",
   "execution_count": 8,
   "metadata": {},
   "outputs": [
    {
     "data": {
      "text/plain": [
       "<openmeteo_sdk.WeatherApiResponse.WeatherApiResponse at 0x2d42172ba30>"
      ]
     },
     "execution_count": 8,
     "metadata": {},
     "output_type": "execute_result"
    }
   ],
   "source": [
    "type(responses)\n",
    "responses\n",
    "type(responses[0])\n",
    "responses[0]"
   ]
  },
  {
   "cell_type": "code",
   "execution_count": 57,
   "metadata": {},
   "outputs": [],
   "source": [
    "# \"hourly_units\": {\n",
    "#     \"time\": \"iso8601\",\n",
    "#     \"temperature_2m\": \"°C\",\n",
    "#     \"relative_humidity_2m\": \"%\",\n",
    "#     \"dew_point_2m\": \"°C\",\n",
    "#     \"rain\": \"mm\",\n",
    "#     \"pressure_msl\": \"hPa\",\n",
    "#     \"wind_speed_10m\": \"km/h\",\n",
    "#     \"wind_direction_10m\": \"°\"\n",
    "# }"
   ]
  },
  {
   "cell_type": "code",
   "execution_count": 13,
   "metadata": {},
   "outputs": [
    {
     "name": "stdout",
     "output_type": "stream",
     "text": [
      "Coordinates 3.1282951831817627°N 101.68547821044922°E\n",
      "Elevation 47.0 m asl\n",
      "Timezone None None\n",
      "Timezone difference to GMT+0 0 s\n"
     ]
    }
   ],
   "source": [
    "# Process first location. Add a for-loop for multiple locations or weather models\n",
    "response = responses[0]\n",
    "print(f\"Coordinates {response.Latitude()}°N {response.Longitude()}°E\")\n",
    "print(f\"Elevation {response.Elevation()} m asl\")\n",
    "print(f\"Timezone {response.Timezone()} {response.TimezoneAbbreviation()}\")\n",
    "print(f\"Timezone difference to GMT+0 {response.UtcOffsetSeconds()} s\")"
   ]
  },
  {
   "cell_type": "code",
   "execution_count": 14,
   "metadata": {},
   "outputs": [],
   "source": [
    "# Process hourly data. The order of variables needs to be the same as requested.\n",
    "hourly = response.Hourly()\n",
    "hourly_temperature_2m = hourly.Variables(0).ValuesAsNumpy()\n",
    "hourly_relative_humidity_2m = hourly.Variables(1).ValuesAsNumpy()\n",
    "hourly_dew_point_2m = hourly.Variables(2).ValuesAsNumpy()\n",
    "hourly_rain = hourly.Variables(3).ValuesAsNumpy()\n",
    "hourly_pressure_msl = hourly.Variables(4).ValuesAsNumpy()\n",
    "hourly_wind_speed_10m = hourly.Variables(5).ValuesAsNumpy()\n",
    "hourly_wind_direction_10m = hourly.Variables(6).ValuesAsNumpy()"
   ]
  },
  {
   "cell_type": "code",
   "execution_count": 24,
   "metadata": {},
   "outputs": [],
   "source": [
    "hourly_data = {\"date\": pd.date_range(\n",
    "\tstart = pd.to_datetime(hourly.Time(), unit = \"s\", utc = True),\n",
    "\tend = pd.to_datetime(hourly.TimeEnd(), unit = \"s\", utc = True),\n",
    "\tfreq = pd.Timedelta(seconds = hourly.Interval()),\n",
    "\tinclusive = \"left\"\n",
    ")}"
   ]
  },
  {
   "cell_type": "code",
   "execution_count": 25,
   "metadata": {},
   "outputs": [],
   "source": [
    "hourly_data[\"temperature_2m\"] = hourly_temperature_2m\n",
    "hourly_data[\"relative_humidity_2m\"] = hourly_relative_humidity_2m\n",
    "hourly_data[\"dew_point_2m\"] = hourly_dew_point_2m\n",
    "hourly_data[\"rain\"] = hourly_rain\n",
    "hourly_data[\"pressure_msl\"] = hourly_pressure_msl\n",
    "hourly_data[\"wind_speed_10m\"] = hourly_wind_speed_10m\n",
    "hourly_data[\"wind_direction_10m\"] = hourly_wind_direction_10m\n",
    "\n",
    "hourly_dataframe = pd.DataFrame(data = hourly_data)"
   ]
  },
  {
   "cell_type": "code",
   "execution_count": 55,
   "metadata": {},
   "outputs": [
    {
     "name": "stdout",
     "output_type": "stream",
     "text": [
      "date                    0\n",
      "temperature_2m          0\n",
      "relative_humidity_2m    0\n",
      "dew_point_2m            0\n",
      "rain                    0\n",
      "pressure_msl            0\n",
      "wind_speed_10m          0\n",
      "wind_direction_10m      0\n",
      "dtype: int64\n"
     ]
    }
   ],
   "source": [
    "# Check for missing values\n",
    "print(hourly_dataframe.isnull().sum()) "
   ]
  },
  {
   "cell_type": "code",
   "execution_count": 56,
   "metadata": {},
   "outputs": [
    {
     "name": "stdout",
     "output_type": "stream",
     "text": [
      "Continuous\n"
     ]
    }
   ],
   "source": [
    "# Check for continuity of time series weather data (hourly)\n",
    "all_hour_datetime = pd.Series(data=pd.date_range(start=hourly_dataframe['date'].min(), end=hourly_dataframe['date'].max(), freq='h'))\n",
    "\n",
    "if hourly_dataframe['date'].count() == all_hour_datetime.count():\n",
    "    print(\"Continuous\")\n",
    "else:\n",
    "    print(\"NOT continuous\")"
   ]
  },
  {
   "cell_type": "code",
   "execution_count": null,
   "metadata": {},
   "outputs": [],
   "source": [
    "data_location = f'../datasets/{location_code}/weather_data_hourly.csv'"
   ]
  },
  {
   "cell_type": "code",
   "execution_count": null,
   "metadata": {},
   "outputs": [],
   "source": [
    "# Convert data frame to CSV, which will be used in notebooks for data cleaning, feature selection, and model training\n",
    "hourly_dataframe.to_csv(data_location, index = False) # Change csv file name based on location"
   ]
  },
  {
   "cell_type": "code",
   "execution_count": 4,
   "metadata": {},
   "outputs": [
    {
     "name": "stdout",
     "output_type": "stream",
     "text": [
      "The current hour in Singapore is: 15\n"
     ]
    }
   ],
   "source": [
    "from datetime import datetime\n",
    "import pytz\n",
    "\n",
    "# Define the Singapore timezone\n",
    "singapore_tz = pytz.timezone('Asia/Kolkata')\n",
    "\n",
    "# Get all the timezones from pytz\n",
    "all_timezones = pytz.all_timezones\n",
    "\n",
    "# which time is indian standard time\n",
    "indian_tz = pytz.timezone('Asia/Kolkata')\n",
    "\n",
    "# Get the current time in Singapore timezone\n",
    "current_time_in_singapore = datetime.now(singapore_tz)\n",
    "\n",
    "# Extract the current hour\n",
    "current_hour_in_singapore = current_time_in_singapore.hour\n",
    "\n",
    "print(f\"The current hour in Singapore is: {current_hour_in_singapore}\")"
   ]
  },
  {
   "cell_type": "code",
   "execution_count": null,
   "metadata": {},
   "outputs": [],
   "source": []
  }
 ],
 "metadata": {
  "kernelspec": {
   "display_name": "Python 3 (ipykernel)",
   "language": "python",
   "name": "python3"
  },
  "language_info": {
   "codemirror_mode": {
    "name": "ipython",
    "version": 3
   },
   "file_extension": ".py",
   "mimetype": "text/x-python",
   "name": "python",
   "nbconvert_exporter": "python",
   "pygments_lexer": "ipython3",
   "version": "3.10.8"
  }
 },
 "nbformat": 4,
 "nbformat_minor": 2
}
